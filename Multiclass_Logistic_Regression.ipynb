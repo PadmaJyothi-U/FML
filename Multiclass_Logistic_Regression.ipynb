{
  "nbformat": 4,
  "nbformat_minor": 0,
  "metadata": {
    "colab": {
      "provenance": [],
      "include_colab_link": true
    },
    "kernelspec": {
      "name": "python3",
      "display_name": "Python 3"
    },
    "language_info": {
      "name": "python"
    }
  },
  "cells": [
    {
      "cell_type": "markdown",
      "metadata": {
        "id": "view-in-github",
        "colab_type": "text"
      },
      "source": [
        "<a href=\"https://colab.research.google.com/github/PadmaJyothi-U/FML/blob/main/Multiclass_Logistic_Regression.ipynb\" target=\"_parent\"><img src=\"https://colab.research.google.com/assets/colab-badge.svg\" alt=\"Open In Colab\"/></a>"
      ]
    },
    {
      "cell_type": "markdown",
      "source": [
        "# **Logistic Regression - Multiclass**\n",
        "\n",
        "---\n",
        "\n"
      ],
      "metadata": {
        "id": "HvXh6dCV6UxG"
      }
    },
    {
      "cell_type": "markdown",
      "source": [
        "**Multiclass logistic regression model on iris data**"
      ],
      "metadata": {
        "id": "fvujeL_U6hYU"
      }
    },
    {
      "cell_type": "code",
      "source": [
        "#import the packages\n",
        "\n",
        "import matplotlib.pyplot as plt\n",
        "import numpy as np\n",
        "from sklearn.datasets import load_iris\n",
        "from sklearn.model_selection import train_test_split\n",
        "from sklearn.preprocessing import StandardScaler\n",
        "from sklearn.linear_model import LogisticRegression\n",
        "from sklearn.metrics import classification_report, confusion_matrix"
      ],
      "metadata": {
        "id": "VLI33dWe6gIG"
      },
      "execution_count": null,
      "outputs": []
    },
    {
      "cell_type": "code",
      "source": [
        "#Loading the dataset\n",
        "iris=load_iris()"
      ],
      "metadata": {
        "id": "kFkULnbL7CDJ"
      },
      "execution_count": null,
      "outputs": []
    },
    {
      "cell_type": "code",
      "source": [
        "iris.feature_names"
      ],
      "metadata": {
        "colab": {
          "base_uri": "https://localhost:8080/"
        },
        "id": "OXJi7yYS7ezQ",
        "outputId": "1e48fe0b-23d4-411f-9c8b-badb4090af07"
      },
      "execution_count": null,
      "outputs": [
        {
          "output_type": "execute_result",
          "data": {
            "text/plain": [
              "['sepal length (cm)',\n",
              " 'sepal width (cm)',\n",
              " 'petal length (cm)',\n",
              " 'petal width (cm)']"
            ]
          },
          "metadata": {},
          "execution_count": 51
        }
      ]
    },
    {
      "cell_type": "markdown",
      "source": [
        "***Labels:***"
      ],
      "metadata": {
        "id": "vwWVd4xwISdq"
      }
    },
    {
      "cell_type": "code",
      "source": [
        "print(iris.target_names)\n"
      ],
      "metadata": {
        "colab": {
          "base_uri": "https://localhost:8080/"
        },
        "id": "efA2haC6EVIN",
        "outputId": "b86f1406-15c3-4cd5-9635-39aefb41b806"
      },
      "execution_count": null,
      "outputs": [
        {
          "output_type": "stream",
          "name": "stdout",
          "text": [
            "['setosa' 'versicolor' 'virginica']\n"
          ]
        }
      ]
    },
    {
      "cell_type": "markdown",
      "source": [
        "**Splitting of the data:**"
      ],
      "metadata": {
        "id": "KgnVKIxD737M"
      }
    },
    {
      "cell_type": "code",
      "source": [
        "#Splitting the data set into training and testing records\n",
        "X_train, X_test, y_train, y_test = train_test_split(iris.data, iris.target, test_size=0.1, random_state=41)"
      ],
      "metadata": {
        "id": "hzwoq4ru70sn"
      },
      "execution_count": null,
      "outputs": []
    },
    {
      "cell_type": "code",
      "source": [
        "#create a model and train it\n",
        "model = LogisticRegression(C=5, multi_class='ovr',random_state=0)\n",
        "model.fit(X_train, y_train)"
      ],
      "metadata": {
        "colab": {
          "base_uri": "https://localhost:8080/"
        },
        "id": "ky1Uxqqy9Ccx",
        "outputId": "f44f0638-fc22-40d6-ad5a-7720dfe8f5f9"
      },
      "execution_count": null,
      "outputs": [
        {
          "output_type": "execute_result",
          "data": {
            "text/plain": [
              "LogisticRegression(C=5, multi_class='ovr', random_state=0)"
            ]
          },
          "metadata": {},
          "execution_count": 54
        }
      ]
    },
    {
      "cell_type": "code",
      "source": [
        "#evaluate the model\n",
        "y_pred = model.predict(X_test)"
      ],
      "metadata": {
        "id": "ZZfExPN2LX9-"
      },
      "execution_count": null,
      "outputs": []
    },
    {
      "cell_type": "markdown",
      "source": [
        "**Performance of training data:**"
      ],
      "metadata": {
        "id": "FcFjtKAi92mD"
      }
    },
    {
      "cell_type": "code",
      "source": [
        "model.score(X_train, y_train)"
      ],
      "metadata": {
        "colab": {
          "base_uri": "https://localhost:8080/"
        },
        "id": "sn8P0nGA9p7w",
        "outputId": "afc84b12-2f54-4cd1-9e4f-ed4ff02dbab5"
      },
      "execution_count": null,
      "outputs": [
        {
          "output_type": "execute_result",
          "data": {
            "text/plain": [
              "0.9629629629629629"
            ]
          },
          "metadata": {},
          "execution_count": 60
        }
      ]
    },
    {
      "cell_type": "markdown",
      "source": [
        "**Performance of testing data:**"
      ],
      "metadata": {
        "id": "BjnIshYg99pO"
      }
    },
    {
      "cell_type": "code",
      "source": [
        "model.score(X_test, y_test)"
      ],
      "metadata": {
        "colab": {
          "base_uri": "https://localhost:8080/"
        },
        "id": "2Fx9GOne9vN0",
        "outputId": "170a58b9-2e08-45a7-d79e-fd5156d52199"
      },
      "execution_count": null,
      "outputs": [
        {
          "output_type": "execute_result",
          "data": {
            "text/plain": [
              "0.9333333333333333"
            ]
          },
          "metadata": {},
          "execution_count": 61
        }
      ]
    },
    {
      "cell_type": "markdown",
      "source": [
        "***Confusion Matrix:***"
      ],
      "metadata": {
        "id": "hBbpj8xW-Mxf"
      }
    },
    {
      "cell_type": "code",
      "source": [
        "confusion_matrix(y_test, y_pred)"
      ],
      "metadata": {
        "colab": {
          "base_uri": "https://localhost:8080/"
        },
        "id": "QTHshCJM9yI2",
        "outputId": "37e84c08-dff9-4098-95d4-0fe4aa4894f1"
      },
      "execution_count": null,
      "outputs": [
        {
          "output_type": "execute_result",
          "data": {
            "text/plain": [
              "array([[3, 0, 0],\n",
              "       [0, 4, 0],\n",
              "       [0, 1, 7]])"
            ]
          },
          "metadata": {},
          "execution_count": 62
        }
      ]
    },
    {
      "cell_type": "markdown",
      "source": [
        "***Evaluation metrics of logistic regression***"
      ],
      "metadata": {
        "id": "RuRO-g2Q-Tmk"
      }
    },
    {
      "cell_type": "code",
      "source": [
        "print(classification_report(y_test, y_pred))"
      ],
      "metadata": {
        "colab": {
          "base_uri": "https://localhost:8080/"
        },
        "id": "Rh-YRRXE-SIH",
        "outputId": "720ca3d0-c20e-49c1-bc3e-d39586fcccf9"
      },
      "execution_count": null,
      "outputs": [
        {
          "output_type": "stream",
          "name": "stdout",
          "text": [
            "              precision    recall  f1-score   support\n",
            "\n",
            "           0       1.00      1.00      1.00         3\n",
            "           1       0.80      1.00      0.89         4\n",
            "           2       1.00      0.88      0.93         8\n",
            "\n",
            "    accuracy                           0.93        15\n",
            "   macro avg       0.93      0.96      0.94        15\n",
            "weighted avg       0.95      0.93      0.93        15\n",
            "\n"
          ]
        }
      ]
    },
    {
      "cell_type": "markdown",
      "source": [
        "**Conclusion:**Our classification model performed well."
      ],
      "metadata": {
        "id": "isfz2DBz-vwJ"
      }
    }
  ]
}