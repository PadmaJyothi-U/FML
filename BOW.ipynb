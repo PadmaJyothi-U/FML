{
  "nbformat": 4,
  "nbformat_minor": 0,
  "metadata": {
    "colab": {
      "provenance": [],
      "authorship_tag": "ABX9TyNnGgyfqH145QvwJcGSRZNk",
      "include_colab_link": true
    },
    "kernelspec": {
      "name": "python3",
      "display_name": "Python 3"
    },
    "language_info": {
      "name": "python"
    }
  },
  "cells": [
    {
      "cell_type": "markdown",
      "metadata": {
        "id": "view-in-github",
        "colab_type": "text"
      },
      "source": [
        "<a href=\"https://colab.research.google.com/github/PadmaJyothi-U/FML/blob/main/BOW.ipynb\" target=\"_parent\"><img src=\"https://colab.research.google.com/assets/colab-badge.svg\" alt=\"Open In Colab\"/></a>"
      ]
    },
    {
      "cell_type": "code",
      "execution_count": 1,
      "metadata": {
        "id": "QD60erd4BkI4"
      },
      "outputs": [],
      "source": [
        "import pandas as pd\n",
        "import numpy as np"
      ]
    },
    {
      "cell_type": "code",
      "source": [
        "doc1 = 'Game of Thrones is an amazing tv series!'\n",
        "doc2 = 'Game of Thrones is the best tv series!'\n",
        "doc3 = 'Game of Thrones is so great'"
      ],
      "metadata": {
        "id": "uF9HN740B5YA"
      },
      "execution_count": 2,
      "outputs": []
    },
    {
      "cell_type": "code",
      "source": [
        "from sklearn.feature_extraction.text import CountVectorizer\n",
        "vectorizer = CountVectorizer()\n",
        "X = vectorizer.fit_transform([doc1,doc2,doc3])\n",
        "#print(X)\n",
        "print(vectorizer.get_feature_names_out())"
      ],
      "metadata": {
        "colab": {
          "base_uri": "https://localhost:8080/"
        },
        "id": "GSkAyLWuB6qJ",
        "outputId": "05cf42c2-0c48-4fef-f82e-9754abfcb1e4"
      },
      "execution_count": 8,
      "outputs": [
        {
          "output_type": "stream",
          "name": "stdout",
          "text": [
            "['amazing' 'an' 'best' 'game' 'great' 'is' 'of' 'series' 'so' 'the'\n",
            " 'thrones' 'tv']\n"
          ]
        }
      ]
    },
    {
      "cell_type": "code",
      "source": [
        "df_bow_sklearn = pd.DataFrame(X.toarray(),columns=vectorizer.get_feature_names_out())\n",
        "print(df_bow_sklearn.head())"
      ],
      "metadata": {
        "colab": {
          "base_uri": "https://localhost:8080/"
        },
        "id": "9KIrI7lRB9UF",
        "outputId": "9f74e51e-2ad0-489e-d54b-2c364bc91992"
      },
      "execution_count": 6,
      "outputs": [
        {
          "output_type": "stream",
          "name": "stdout",
          "text": [
            "   amazing  an  best  game  great  is  of  series  so  the  thrones  tv\n",
            "0        1   1     0     1      0   1   1       1   0    0        1   1\n",
            "1        0   0     1     1      0   1   1       1   0    1        1   1\n",
            "2        0   0     0     1      1   1   1       0   1    0        1   0\n"
          ]
        }
      ]
    },
    {
      "cell_type": "code",
      "source": [],
      "metadata": {
        "id": "ZzyAjzWmB9qQ"
      },
      "execution_count": null,
      "outputs": []
    }
  ]
}